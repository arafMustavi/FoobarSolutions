{
  "nbformat": 4,
  "nbformat_minor": 0,
  "metadata": {
    "colab": {
      "name": "FooBar Task 02",
      "provenance": [],
      "collapsed_sections": [],
      "authorship_tag": "ABX9TyOLAhGsiLNDOnJOKle/jjxA",
      "include_colab_link": true
    },
    "kernelspec": {
      "name": "python3",
      "display_name": "Python 3"
    }
  },
  "cells": [
    {
      "cell_type": "markdown",
      "metadata": {
        "id": "view-in-github",
        "colab_type": "text"
      },
      "source": [
        "<a href=\"https://colab.research.google.com/github/arafMustavi/FoobarSolutions/blob/main/FooBar_Task_02.ipynb\" target=\"_parent\"><img src=\"https://colab.research.google.com/assets/colab-badge.svg\" alt=\"Open In Colab\"/></a>"
      ]
    },
    {
      "cell_type": "markdown",
      "metadata": {
        "id": "ce-78Sx6H2NH"
      },
      "source": [
        "Numbers Station Coded Messages\n",
        "==============================\n",
        "\n",
        "When you went undercover in Commander Lambda's organization, you set up a coded messaging system with Bunny Headquarters to allow them to send you important mission updates. Now that you're here and promoted to Henchman, you need to make sure you can receive those messages - but since you need to sneak them past Commander Lambda's spies, it won't be easy!\n",
        "\n",
        "Bunny HQ has secretly taken control of two of the galaxy's more obscure numbers stations, and will use them to broadcast lists of numbers. They've given you a numerical key, and their messages will be encrypted within the first sequence of numbers that adds up to that key within any given list of numbers. \n",
        "\n",
        "Given a non-empty list of positive integers l and a target positive integer t, write a function solution(l, t) which verifies if there is at least one consecutive sequence of positive integers within the list l (i.e. a contiguous sub-list) that can be summed up to the given target positive integer t (the key) and returns the lexicographically smallest list containing the smallest start and end indexes where this sequence can be found, or returns the array [-1, -1] in the case that there is no such sequence (to throw off Lambda's spies, not all number broadcasts will contain a coded message).\n",
        "\n",
        "For example, given the broadcast list l as [4, 3, 5, 7, 8] and the key t as 12, the function solution(l, t) would return the list [0, 2] because the list l contains the sub-list [4, 3, 5] starting at index 0 and ending at index 2, for which 4 + 3 + 5 = 12, even though there is a shorter sequence that happens later in the list (5 + 7). On the other hand, given the list l as [1, 2, 3, 4] and the key t as 15, the function solution(l, t) would return [-1, -1] because there is no sub-list of list l that can be summed up to the given target value t = 15.\n",
        "\n",
        "To help you identify the coded broadcasts, Bunny HQ has agreed to the following standards: \n",
        "\n",
        "- Each list l will contain at least 1 element but never more than 100.\n",
        "- Each element of l will be between 1 and 100.\n",
        "- t will be a positive integer, not exceeding 250.\n",
        "- The first element of the list l has index 0. \n",
        "- For the list returned by solution(l, t), the start index must be equal or smaller than the end index. \n",
        "\n",
        "Remember, to throw off Lambda's spies, Bunny HQ might include more than one contiguous sublist of a number broadcast that can be summed up to the key. You know that the message will always be hidden in the first sublist that sums up to the key, so solution(l, t) should only return that sublist.\n",
        "\n",
        "Languages\n",
        "=========\n",
        "\n",
        "To provide a Python solution, edit solution.py\n",
        "To provide a Java solution, edit Solution.java\n",
        "\n",
        "Test cases\n",
        "==========\n",
        "Your code should pass the following test cases.\n",
        "Note that it may also be run against hidden test cases not shown here.\n",
        "\n",
        "-- Python cases --\n",
        "Input:\n",
        "solution.solution([1, 2, 3, 4], 15)\n",
        "Output:\n",
        "    -1,-1\n",
        "\n",
        "Input:\n",
        "solution.solution([4, 3, 10, 2, 8], 12)\n",
        "Output:\n",
        "    2,3\n",
        "\n",
        "-- Java cases --\n",
        "Input:\n",
        "Solution.solution({1, 2, 3, 4}, 15)\n",
        "Output:\n",
        "    -1,-1\n",
        "\n",
        "Input:\n",
        "Solution.solution({4, 3, 10, 2, 8}, 12)\n",
        "Output:\n",
        "    2,3\n",
        "\n",
        "Use verify [file] to test your solution and see how it does. When you are finished editing your code, use submit [file] to submit your answer. If your solution passes the test cases, it will be removed from your home folder."
      ]
    },
    {
      "cell_type": "code",
      "metadata": {
        "id": "yUlfwlf_H0UJ",
        "outputId": "64779e26-08e2-4892-c239-62e3e6492610",
        "colab": {
          "base_uri": "https://localhost:8080/"
        }
      },
      "source": [
        "def solution(l, t):\n",
        "    # Your code here\n",
        "    startIndex = -1\n",
        "    endIndex = -1\n",
        "    notFound = True\n",
        "    list_len = len(l)\n",
        "    for i in range(0,list_len):\n",
        "        if(notFound):# and (i != list_len):\n",
        "          for j in range(i+1,list_len+1):\n",
        "            # print(\"Testing\",i,j)\n",
        "            # print(l[i:j])\n",
        "            sub_sum = sum(l[i:j])\n",
        "            # print(\"SubSum\",sub_sum)\n",
        "            if (sub_sum == t):\n",
        "              startIndex = i\n",
        "              endIndex = j-1\n",
        "              notFound = False\n",
        "              break\n",
        "    return [startIndex,endIndex]\n",
        "\n",
        "solution([1, 2, 3, 4], 7)"
      ],
      "execution_count": null,
      "outputs": [
        {
          "output_type": "stream",
          "text": [
            "[1]\n",
            "[1, 2]\n",
            "[1, 2, 3]\n",
            "[1, 2, 3, 4]\n",
            "[2]\n",
            "[2, 3]\n",
            "[2, 3, 4]\n",
            "[3]\n",
            "[3, 4]\n"
          ],
          "name": "stdout"
        },
        {
          "output_type": "execute_result",
          "data": {
            "text/plain": [
              "[2, 3]"
            ]
          },
          "metadata": {
            "tags": []
          },
          "execution_count": 29
        }
      ]
    },
    {
      "cell_type": "markdown",
      "metadata": {
        "id": "rQ9AeflwO6Hc"
      },
      "source": [
        "Power Hungry\n",
        "============\n",
        "\n",
        "Commander Lambda's space station is HUGE. And huge space stations take a LOT of power. Huge space stations with doomsday devices take even more power. To help meet the station's power needs, Commander Lambda has installed solar panels on the station's outer surface. But the station sits in the middle of a quasar quantum flux field, which wreaks havoc on the solar panels. You and your team of henchmen have been assigned to repair the solar panels, but you'd rather not take down all of the panels at once if you can help it, since they do help power the space station and all!\n",
        "\n",
        "You need to figure out which sets of panels in any given array you can take offline to repair while still maintaining the maximum amount of power output per array, and to do THAT, you'll first need to figure out what the maximum output of each array actually is. Write a function solution(xs) that takes a list of integers representing the power output levels of each panel in an array, and returns the maximum product of some non-empty subset of those numbers. So for example, if an array contained panels with power output levels of [2, -3, 1, 0, -5], then the maximum product would be found by taking the subset: xs[0] = 2, xs[1] = -3, xs[4] = -5, giving the product 2*(-3)*(-5) = 30.  So solution([2,-3,1,0,-5]) will be \"30\".\n",
        "\n",
        "Each array of solar panels contains at least 1 and no more than 50 panels, and each panel will have a power output level whose absolute value is no greater than 1000 (some panels are malfunctioning so badly that they're draining energy, but you know a trick with the panels' wave stabilizer that lets you combine two negative-output panels to produce the positive output of the multiple of their power values). The final products may be very large, so give the solution as a string representation of the number.\n",
        "\n",
        "Languages\n",
        "=========\n",
        "\n",
        "To provide a Python solution, edit solution.py\n",
        "To provide a Java solution, edit Solution.java\n",
        "\n",
        "Test cases\n",
        "==========\n",
        "Your code should pass the following test cases.\n",
        "Note that it may also be run against hidden test cases not shown here.\n",
        "\n",
        "-- Python cases --\n",
        "Input:\n",
        "solution.solution([2, 0, 2, 2, 0])\n",
        "Output:\n",
        "    8\n",
        "\n",
        "Input:\n",
        "solution.solution([-2, -3, 4, -5])\n",
        "Output:\n",
        "    60\n",
        "\n",
        "-- Java cases --\n",
        "Input:\n",
        "Solution.solution({2, 0, 2, 2, 0})\n",
        "Output:\n",
        "    8\n",
        "\n",
        "Input:\n",
        "Solution.solution({-2, -3, 4, -5})\n",
        "Output:\n",
        "    60\n",
        "\n",
        "Use verify [file] to test your solution and see how it does. When you are finished editing your code, use submit [file] to submit your answer. If your solution passes the test cases, it will be removed from your home folder."
      ]
    },
    {
      "cell_type": "code",
      "metadata": {
        "id": "9qELfDIJLKri"
      },
      "source": [
        ""
      ],
      "execution_count": null,
      "outputs": []
    },
    {
      "cell_type": "code",
      "metadata": {
        "id": "6aYD9tBRQfhj",
        "outputId": "40415dd6-3317-41af-93f3-dc70a871afeb",
        "colab": {
          "base_uri": "https://localhost:8080/"
        }
      },
      "source": [
        "def pad_Zero(binString,maxDigit):\n",
        "  while(len(binString) < maxDigit):\n",
        "    binString = '0' + binString\n",
        "  return binString\n",
        "\n",
        "def convert_binary(num,maxDigit):\n",
        "  binValue = bin(num)\n",
        "  binValue = binValue[2:]\n",
        "  binValue = pad_Zero(binValue,maxDigit)\n",
        "  return binValue\n",
        "\n",
        "\n",
        "\n",
        "l = [2, 0, 2, 2, 0]\n",
        "\n",
        "digits = len(l)\n",
        "maxBinNumber = 2 ** digits\n",
        "print(maxBinNumber)\n",
        "max_Prod = 0\n",
        "\n",
        "for i in range(maxBinNumber):\n",
        "  choices = convert_binary(i,digits)\n",
        "  print(choices)\n"
      ],
      "execution_count": null,
      "outputs": [
        {
          "output_type": "stream",
          "text": [
            "32\n",
            "00000\n",
            "00001\n",
            "00010\n",
            "00011\n",
            "00100\n",
            "00101\n",
            "00110\n",
            "00111\n",
            "01000\n",
            "01001\n",
            "01010\n",
            "01011\n",
            "01100\n",
            "01101\n",
            "01110\n",
            "01111\n",
            "10000\n",
            "10001\n",
            "10010\n",
            "10011\n",
            "10100\n",
            "10101\n",
            "10110\n",
            "10111\n",
            "11000\n",
            "11001\n",
            "11010\n",
            "11011\n",
            "11100\n",
            "11101\n",
            "11110\n",
            "11111\n"
          ],
          "name": "stdout"
        }
      ]
    },
    {
      "cell_type": "code",
      "metadata": {
        "id": "WBvRHp6LQESS",
        "outputId": "670efb0f-d1c2-4e2a-c43e-f857ad1a0726",
        "colab": {
          "base_uri": "https://localhost:8080/",
          "height": 231
        }
      },
      "source": [
        "for i in range(maxBinNumber):\n",
        "  choices = convert_binary(i,digits)\n",
        "  # print(choices)\n",
        "  curr_prod = None\n",
        "  for x in range(digits):\n",
        "    # print(x)\n",
        "    if (choices[x] == '1'): \n",
        "      if curr_prod is None:\n",
        "        curr_prod = choices[x]\n",
        "        continue\n",
        "      curr_prod *= l[x]\n",
        "  if ((not (curr_prod is None)) and (max_Prod < curr_prod)) :\n",
        "    # if :\n",
        "      max_Prod = curr_prod\n",
        "\n",
        "print(max_Prod)"
      ],
      "execution_count": null,
      "outputs": [
        {
          "output_type": "error",
          "ename": "TypeError",
          "evalue": "ignored",
          "traceback": [
            "\u001b[0;31m---------------------------------------------------------------------------\u001b[0m",
            "\u001b[0;31mTypeError\u001b[0m                                 Traceback (most recent call last)",
            "\u001b[0;32m<ipython-input-8-634930295800>\u001b[0m in \u001b[0;36m<module>\u001b[0;34m()\u001b[0m\n\u001b[1;32m     10\u001b[0m         \u001b[0;32mcontinue\u001b[0m\u001b[0;34m\u001b[0m\u001b[0;34m\u001b[0m\u001b[0m\n\u001b[1;32m     11\u001b[0m       \u001b[0mcurr_prod\u001b[0m \u001b[0;34m*=\u001b[0m \u001b[0ml\u001b[0m\u001b[0;34m[\u001b[0m\u001b[0mx\u001b[0m\u001b[0;34m]\u001b[0m\u001b[0;34m\u001b[0m\u001b[0;34m\u001b[0m\u001b[0m\n\u001b[0;32m---> 12\u001b[0;31m   \u001b[0;32mif\u001b[0m \u001b[0;34m(\u001b[0m\u001b[0;34m(\u001b[0m\u001b[0;32mnot\u001b[0m \u001b[0;34m(\u001b[0m\u001b[0mcurr_prod\u001b[0m \u001b[0;32mis\u001b[0m \u001b[0;32mNone\u001b[0m\u001b[0;34m)\u001b[0m\u001b[0;34m)\u001b[0m \u001b[0;32mand\u001b[0m \u001b[0;34m(\u001b[0m\u001b[0mmax_Prod\u001b[0m \u001b[0;34m<\u001b[0m \u001b[0mcurr_prod\u001b[0m\u001b[0;34m)\u001b[0m\u001b[0;34m)\u001b[0m \u001b[0;34m:\u001b[0m\u001b[0;34m\u001b[0m\u001b[0;34m\u001b[0m\u001b[0m\n\u001b[0m\u001b[1;32m     13\u001b[0m     \u001b[0;31m# if :\u001b[0m\u001b[0;34m\u001b[0m\u001b[0;34m\u001b[0m\u001b[0;34m\u001b[0m\u001b[0m\n\u001b[1;32m     14\u001b[0m       \u001b[0mmax_Prod\u001b[0m \u001b[0;34m=\u001b[0m \u001b[0mcurr_prod\u001b[0m\u001b[0;34m\u001b[0m\u001b[0;34m\u001b[0m\u001b[0m\n",
            "\u001b[0;31mTypeError\u001b[0m: '<' not supported between instances of 'int' and 'str'"
          ]
        }
      ]
    },
    {
      "cell_type": "markdown",
      "metadata": {
        "id": "NSO1REqbfz0M"
      },
      "source": [
        "Final Solution"
      ]
    },
    {
      "cell_type": "code",
      "metadata": {
        "id": "53dwTXQef2U9"
      },
      "source": [
        "def pad_Zero(binString,maxDigit):\n",
        "  while(len(binString) < maxDigit):\n",
        "    binString = '0' + binString\n",
        "  return binString\n",
        "\n",
        "def convert_binary(num,maxDigit):\n",
        "  binValue = bin(num)\n",
        "  binValue = binValue[2:]\n",
        "  binValue = pad_Zero(binValue,maxDigit)\n",
        "  return binValue\n",
        "\n",
        "\n",
        "def solution(xs):\n",
        "    # Your code here\n",
        "    \n",
        "    digits = len(xs)\n",
        "    maxBinNumber = 2 ** digits\n",
        "    # print(maxBinNumber)\n",
        "    max_Prod = 0\n",
        "    \n",
        "    for i in range(maxBinNumber):\n",
        "      choices = convert_binary(i,digits)\n",
        "      # print(choices)\n",
        "      curr_prod = 1\n",
        "      for x in range(digits):\n",
        "        # print(x)\n",
        "        if (choices[x] == '1'): \n",
        "          curr_prod *= xs[x]\n",
        "          # print(curr_prod)\n",
        "      if (max_Prod < curr_prod):\n",
        "        max_Prod = curr_prod\n",
        "        # print(max_Prod)\n",
        "    \n",
        "    return str(max_Prod)"
      ],
      "execution_count": null,
      "outputs": []
    },
    {
      "cell_type": "code",
      "metadata": {
        "id": "5U4vmBH1iODX",
        "outputId": "cdd12405-e9e4-4527-cc30-d31cfb97e4ab",
        "colab": {
          "base_uri": "https://localhost:8080/",
          "height": 35
        }
      },
      "source": [
        "solution([2, 0, 2, 2, 0])\n"
      ],
      "execution_count": null,
      "outputs": [
        {
          "output_type": "execute_result",
          "data": {
            "application/vnd.google.colaboratory.intrinsic+json": {
              "type": "string"
            },
            "text/plain": [
              "'8'"
            ]
          },
          "metadata": {
            "tags": []
          },
          "execution_count": 19
        }
      ]
    },
    {
      "cell_type": "code",
      "metadata": {
        "id": "EURMkL3YiXnt",
        "outputId": "12c94daf-a51f-4e7b-9b6a-3c86b848fe6b",
        "colab": {
          "base_uri": "https://localhost:8080/",
          "height": 35
        }
      },
      "source": [
        "solution([-2, -3, 4, -5])"
      ],
      "execution_count": null,
      "outputs": [
        {
          "output_type": "execute_result",
          "data": {
            "application/vnd.google.colaboratory.intrinsic+json": {
              "type": "string"
            },
            "text/plain": [
              "'60'"
            ]
          },
          "metadata": {
            "tags": []
          },
          "execution_count": 20
        }
      ]
    },
    {
      "cell_type": "code",
      "metadata": {
        "id": "ZwmUm0i-kDo5",
        "outputId": "490ce8d1-041b-428d-8734-cc189d213c52",
        "colab": {
          "base_uri": "https://localhost:8080/",
          "height": 35
        }
      },
      "source": [
        "solution([0,0,0,0])"
      ],
      "execution_count": null,
      "outputs": [
        {
          "output_type": "execute_result",
          "data": {
            "application/vnd.google.colaboratory.intrinsic+json": {
              "type": "string"
            },
            "text/plain": [
              "'1'"
            ]
          },
          "metadata": {
            "tags": []
          },
          "execution_count": 21
        }
      ]
    },
    {
      "cell_type": "markdown",
      "metadata": {
        "id": "eqZd_AcwOD3v"
      },
      "source": [
        "Approach 3"
      ]
    },
    {
      "cell_type": "code",
      "metadata": {
        "id": "ylWydtMWOF6W"
      },
      "source": [
        "numberList =  [-2,-3,4,-5]\n",
        "\n",
        "profile = {}\n",
        "\n",
        "for x in numberList:\n",
        "  if"
      ],
      "execution_count": null,
      "outputs": []
    },
    {
      "cell_type": "code",
      "metadata": {
        "id": "5ts0x3sKP6P0"
      },
      "source": [
        "# Python code to generate \n",
        "# random numbers and \n",
        "# append them to a list \n",
        "import random \n",
        "  \n",
        "# Function to generate \n",
        "# and append them  \n",
        "# start = starting range, \n",
        "# end = ending range \n",
        "# num = number of  \n",
        "# elements needs to be appended \n",
        "def Rand(start, end, num): \n",
        "    res = [] \n",
        "  \n",
        "    for j in range(num): \n",
        "        res.append(random.randint(start, end)) \n",
        "  \n",
        "    return res \n",
        "  \n",
        "# Driver Code \n",
        "num = 10\n",
        "start = 40\n",
        "end = 80\n",
        "print(Rand(start, end, num)) "
      ],
      "execution_count": null,
      "outputs": []
    },
    {
      "cell_type": "markdown",
      "metadata": {
        "id": "bDw9T_n0Kigm"
      },
      "source": [
        "# New Approach"
      ]
    },
    {
      "cell_type": "code",
      "metadata": {
        "id": "2oDtitaaKkIw",
        "outputId": "a56a81fc-aeca-47f3-ae86-00e791530af0",
        "colab": {
          "base_uri": "https://localhost:8080/"
        }
      },
      "source": [
        "# product of a List\n",
        "def product_List(a_list):\n",
        "  curr_prod = 1\n",
        "  for x in a_list:\n",
        "    curr_prod*=x\n",
        "  return curr_prod\n",
        "\n",
        "print(product_List([1,2,3,4]))"
      ],
      "execution_count": null,
      "outputs": [
        {
          "output_type": "stream",
          "text": [
            "24\n"
          ],
          "name": "stdout"
        }
      ]
    },
    {
      "cell_type": "code",
      "metadata": {
        "id": "UBbiyVYsK_Be",
        "outputId": "aab6e883-abb5-4a09-c3d3-dcf842796e19",
        "colab": {
          "base_uri": "https://localhost:8080/"
        }
      },
      "source": [
        "# product of a List\n",
        "def product_List(a_list):\n",
        "  curr_prod = 1\n",
        "  for x in a_list:\n",
        "    curr_prod*=x\n",
        "  return curr_prod\n",
        "\n",
        "# print(product_List([1,2,3,4]))\n",
        "positives = []\n",
        "negatives = []\n",
        "a_list = [-2,-5,-4,0,1,7,9]\n",
        "a_list = [-2, -3, 4, -5]\n",
        "a_list = [2, 0, 2, 2, 0,-1]\n",
        "for x in a_list:\n",
        "  if x > 0:\n",
        "    positives.append(x)\n",
        "  if x < 0:\n",
        "    negatives.append(x)\n",
        "positives.sort()\n",
        "negatives.sort()\n",
        "print(positives)\n",
        "print(negatives)\n",
        "\n",
        "a = product_List(positives)\n",
        "print(product_List(positives))\n",
        "if len(negatives)%2 == 1 :\n",
        "  negatives.pop()\n",
        "b = product_List(negatives)\n",
        "print(product_List(negatives))\n",
        "\n",
        "print(a*b)"
      ],
      "execution_count": null,
      "outputs": [
        {
          "output_type": "stream",
          "text": [
            "[2, 2, 2]\n",
            "[-1]\n",
            "8\n",
            "1\n",
            "8\n"
          ],
          "name": "stdout"
        }
      ]
    },
    {
      "cell_type": "code",
      "metadata": {
        "id": "DQYdKBhUL1Gb"
      },
      "source": [
        "####PASSED 3######\n",
        "def product_List(a_list):\n",
        "  curr_prod = 1\n",
        "  for x in a_list:\n",
        "    curr_prod*=x\n",
        "  return curr_prod\n",
        "\n",
        "def all_zeros_or_empty(a_list):\n",
        "  if len(a_list) == 0:\n",
        "    return True\n",
        "  for i in a_list:\n",
        "    if i !=0:\n",
        "      return False\n",
        "  return True\n",
        "  \n",
        "\n",
        "\n",
        "def solution(xs):\n",
        "    # Your code here\n",
        "    positives = []\n",
        "    negatives = []\n",
        "    for x in xs:\n",
        "      if x > 0:\n",
        "        positives.append(x)\n",
        "      if x < 0:\n",
        "        negatives.append(x)\n",
        "    positives.sort()\n",
        "    negatives.sort()\n",
        "    # print(positives)\n",
        "    # print(negatives)\n",
        "    \n",
        "    a = product_List(positives)\n",
        "    # print(product_List(positives))\n",
        "\n",
        "    # if(all_zeros_or_empty(positive) and (all_zeros_or_empty(negative))):\n",
        "\n",
        "    if len(negatives)%2 == 1 :\n",
        "      negatives.pop()\n",
        "    b = product_List(negatives)\n",
        "    # print(product_List(negatives))\n",
        "    res = a*b\n",
        "    \n",
        "    return str(res)\n",
        "    \n",
        "    # print(a*b)\n"
      ],
      "execution_count": null,
      "outputs": []
    },
    {
      "cell_type": "code",
      "metadata": {
        "id": "3iLF6InesvpL",
        "outputId": "d8de614f-8e36-4c30-a113-7aec1dcaa632",
        "colab": {
          "base_uri": "https://localhost:8080/",
          "height": 35
        }
      },
      "source": [
        "solution([0,0,2,2,2])"
      ],
      "execution_count": null,
      "outputs": [
        {
          "output_type": "execute_result",
          "data": {
            "application/vnd.google.colaboratory.intrinsic+json": {
              "type": "string"
            },
            "text/plain": [
              "'8'"
            ]
          },
          "metadata": {
            "tags": []
          },
          "execution_count": 14
        }
      ]
    },
    {
      "cell_type": "code",
      "metadata": {
        "id": "tqnorKX4tNcO",
        "outputId": "ed14272d-d1a8-4d7f-d141-9f85107887ce",
        "colab": {
          "base_uri": "https://localhost:8080/",
          "height": 154
        }
      },
      "source": [
        "\n",
        "l = [2, 0, 2, 2, 0]\n",
        "def pad_Zero(binString,maxDigit):\n",
        "  while(len(binString) < maxDigit):\n",
        "    binString = '0' + binString\n",
        "  return binString\n",
        "\n",
        "def convert_binary(num,maxDigit):\n",
        "  binValue = bin(num)\n",
        "  binValue = binValue[2:]\n",
        "  binValue = pad_Zero(binValue,maxDigit)\n",
        "  return binValue\n",
        "\n",
        "\n",
        "def solution(xs):\n",
        "    # Your code here\n",
        "    \n",
        "    digits = len(xs)\n",
        "    maxBinNumber = 2 ** digits\n",
        "    # print(maxBinNumber)\n",
        "    max_Prod = 0\n",
        "    \n",
        "    for i in range(1,maxBinNumber):\n",
        "      choices = convert_binary(i,digits)\n",
        "      # print(choices)\n",
        "      curr_prod = 1\n",
        "      for x in range(digits):\n",
        "        # print(x)\n",
        "        if (choices[x] == '1'): \n",
        "          curr_prod *= xs[x]\n",
        "          # print(curr_prod)\n",
        "      if (max_Prod < curr_prod):\n",
        "        max_Prod = curr_prod\n",
        "        # print(max_Prod)\n",
        "    \n",
        "    return str(max_Prod)\n",
        "# solution(l)\n",
        "solution([0,0,0])"
      ],
      "execution_count": null,
      "outputs": [
        {
          "output_type": "stream",
          "text": [
            "001\n",
            "010\n",
            "011\n",
            "100\n",
            "101\n",
            "110\n",
            "111\n"
          ],
          "name": "stdout"
        },
        {
          "output_type": "execute_result",
          "data": {
            "application/vnd.google.colaboratory.intrinsic+json": {
              "type": "string"
            },
            "text/plain": [
              "'0'"
            ]
          },
          "metadata": {
            "tags": []
          },
          "execution_count": 22
        }
      ]
    },
    {
      "cell_type": "markdown",
      "metadata": {
        "id": "84kMchvpENQx"
      },
      "source": [
        "C++  Implememtation"
      ]
    },
    {
      "cell_type": "code",
      "metadata": {
        "id": "3-3r0clj-syF"
      },
      "source": [
        "#include <bits/stdc++.h>\n",
        "\n",
        "using namespace std;\n",
        "\n",
        "int main()\n",
        "{\n",
        "    //Taking input of size of array of numbers\n",
        "    int n;\n",
        "    cin >> n;\n",
        "\n",
        "    //Declaring a vector to store the numbers\n",
        "    vector<int> a(n);\n",
        "\n",
        "    //Setting variable negative to store maximum valued negative number\n",
        "    int negative = INT_MIN;\n",
        "\n",
        "    //Counter variables to store number of zeros and negative numbers\n",
        "    int countzero = 0, countneg = 0;\n",
        "\n",
        "    //Initializing product to 1\n",
        "    int product = 1;\n",
        "\n",
        "    for(int i=0;i<n;i++){\n",
        "        //Taking input of elements\n",
        "        cin >> a[i];\n",
        "\n",
        "        if(a[i]==0){\n",
        "            //Incrementing zero counter if input is 0\n",
        "            countzero++;\n",
        "        }else if(a[i]<0){\n",
        "            //Incrementing negative counter if input is <0\n",
        "            countneg++;\n",
        "            //Updating negative to maximum valued negative number\n",
        "            negative = max(negative, a[i]);\n",
        "        }\n",
        "        //Updating product\n",
        "        product *= a[i];\n",
        "    }\n",
        "\n",
        "    if(countzero==n){\n",
        "        // If there are all zeros\n",
        "        cout << 0;\n",
        "    }else if(countneg%2){\n",
        "        // If there are odd number of negative numbers\n",
        "        if(countneg==1 && countzero>0 && countzero+countneg==n) {\n",
        "            //If there is only one negative number and all others are zeros\n",
        "            cout << 0;\n",
        "        }else {\n",
        "            //Result is product of all non-zeros divided by maximum valued negative.\n",
        "            cout << product / negative;\n",
        "        }\n",
        "    }else{\n",
        "        cout << product;\n",
        "    }\n",
        "\n",
        "    return 0;\n",
        "}"
      ],
      "execution_count": null,
      "outputs": []
    },
    {
      "cell_type": "code",
      "metadata": {
        "id": "4Yj6ucqMEUfQ",
        "outputId": "d38ee464-f0d2-4f7c-95f9-6c4f860ac606",
        "colab": {
          "base_uri": "https://localhost:8080/",
          "height": 52
        }
      },
      "source": [
        "### PASSED 4 Test Case Including 1 2 3 5\n",
        "def solution(xs):\n",
        "  if len(xs) == 0:\n",
        "    return str(0)\n",
        "  if len(xs) == 1:\n",
        "    return str(xs[0])\n",
        "\n",
        "\n",
        "  #Counter variables to store number of zeros and negative numbers\n",
        "  countzero = 0\n",
        "  countneg = 0\n",
        "\n",
        "  # Initializing product to 1\n",
        "  product = 1\n",
        "  n = len(xs)\n",
        "  # print(n)\n",
        "  # for in range (n):\n",
        "  negative = -10001\n",
        "\n",
        "  for i in range(n):\n",
        "    if((xs[i]==0):\n",
        "        #Incrementing zero counter if input is 0\n",
        "        countzero+=1\n",
        "        continue\n",
        "    elif(xs[i]>1000 or xs[i] < -1000):\n",
        "        continue\n",
        "    elif(xs[i]<0):\n",
        "        #Incrementing negative counter if input is <0\n",
        "        countneg+=1\n",
        "        #Updating negative to maximum valued negative number\n",
        "        negative = max(negative, xs[i])\n",
        "      \n",
        "    #Updating product\n",
        "    product *= xs[i];\n",
        "\n",
        "  print(product)\n",
        "  if(countzero==n):\n",
        "    # If there are all zeros\n",
        "    return str(0)\n",
        "  elif(countneg%2 == 1):\n",
        "    # If there are odd number of negative numbers\n",
        "    if(countneg==1 and countzero>0 and countzero+countneg==n):\n",
        "      #If there is only one negative number and all others are zeros\n",
        "      return str(0)\n",
        "    else: \n",
        "      #Result is product of all non-zeros divided by maximum valued negative.\n",
        "      return str(product / negative)\n",
        "  else:\n",
        "    return str(product)\n",
        "    \n",
        "\n",
        "solution([])\n"
      ],
      "execution_count": null,
      "outputs": [
        {
          "output_type": "stream",
          "text": [
            "1\n"
          ],
          "name": "stdout"
        },
        {
          "output_type": "execute_result",
          "data": {
            "application/vnd.google.colaboratory.intrinsic+json": {
              "type": "string"
            },
            "text/plain": [
              "'0'"
            ]
          },
          "metadata": {
            "tags": []
          },
          "execution_count": 37
        }
      ]
    },
    {
      "cell_type": "code",
      "metadata": {
        "id": "O9tW43YulQtP"
      },
      "source": [
        "### PASSED 4 Test Case Including 1 2 3 5\n",
        "def solution(xs):\n",
        "  ###MADARCHODERA TEST CASE 4 e EMPTY OR SINGLE VALUE REKHE DISIOLO SHALA SHUWOR####\n",
        "  # SPECIAL THANKS TO https://github.com/rudisimo/google-foobar/blob/master/solutions/power_hungry/solution.py #\n",
        "    if len(xs) == 0:\n",
        "        return str(0)\n",
        "    if len(xs) == 1:\n",
        "        return str(xs[0])\n",
        "\n",
        "    #Counter variables to store number of zeros and negative numbers\n",
        "    countzero = 0\n",
        "    countneg = 0\n",
        "    \n",
        "    # Initializing product to 1\n",
        "    product = 1\n",
        "    n = len(xs)\n",
        "    # print(n)\n",
        "    # for in range (n):\n",
        "    negative = -10001\n",
        "    \n",
        "    for i in range(n):\n",
        "        if(xs[i]==0):\n",
        "            #Incrementing zero counter if input is 0\n",
        "            countzero+=1\n",
        "            continue\n",
        "        elif(xs[i]>1000 or xs[i] < -1000):\n",
        "            continue\n",
        "        elif(xs[i]<0):\n",
        "            #Incrementing negative counter if input is <0\n",
        "            countneg+=1\n",
        "            #Updating negative to maximum valued negative number\n",
        "            negative = max(negative, xs[i])\n",
        "          \n",
        "        #Updating product\n",
        "        product *= xs[i]\n",
        "    \n",
        "    # print(product)\n",
        "    if(countzero==n):\n",
        "    # If there are all zeros\n",
        "        return str(0)\n",
        "    elif(countneg%2 == 1):\n",
        "    # If there are odd number of negative numbers\n",
        "        if(countneg==1 and countzero>0 and countzero+countneg==n):\n",
        "            #If there is only one negative number and all others are zeros\n",
        "            return str(0)\n",
        "        else: \n",
        "            #Result is product of all non-zeros divided by maximum valued negative.\n",
        "            return str(product / negative)\n",
        "    else:\n",
        "        return str(product)"
      ],
      "execution_count": 3,
      "outputs": []
    },
    {
      "cell_type": "code",
      "metadata": {
        "id": "SMgZam0cGFxG",
        "outputId": "391607b3-b9f7-400d-ffd8-967acbb4c301",
        "colab": {
          "base_uri": "https://localhost:8080/",
          "height": 35
        }
      },
      "source": [
        "solution([1,2,3,4])\n"
      ],
      "execution_count": 4,
      "outputs": [
        {
          "output_type": "execute_result",
          "data": {
            "application/vnd.google.colaboratory.intrinsic+json": {
              "type": "string"
            },
            "text/plain": [
              "'24'"
            ]
          },
          "metadata": {
            "tags": []
          },
          "execution_count": 4
        }
      ]
    },
    {
      "cell_type": "code",
      "metadata": {
        "id": "zAgNg61dmGzs"
      },
      "source": [
        "### PASSED all test\n",
        "def solution(xs):\n",
        "    if len(xs) == 0:\n",
        "        return str(0)\n",
        "    if len(xs) == 1:\n",
        "        return str(xs[0])\n",
        "\n",
        "    #Counter variables to store number of zeros and negative numbers\n",
        "    countzero = 0\n",
        "    countneg = 0\n",
        "    \n",
        "    # Initializing product to 1\n",
        "    product = 1\n",
        "    n = len(xs)\n",
        "    # print(n)\n",
        "    # for in range (n):\n",
        "    negative = -10001\n",
        "    \n",
        "    for i in range(n):\n",
        "        if(xs[i]==0):\n",
        "            #Incrementing zero counter if input is 0\n",
        "            countzero+=1\n",
        "            continue\n",
        "        elif(xs[i]>1000 or xs[i] < -1000):\n",
        "            continue\n",
        "        elif(xs[i]<0):\n",
        "            #Incrementing negative counter if input is <0\n",
        "            countneg+=1\n",
        "            #Updating negative to maximum valued negative number\n",
        "            negative = max(negative, xs[i])\n",
        "          \n",
        "        #Updating product\n",
        "        product *= xs[i]\n",
        "    \n",
        "    # print(product)\n",
        "    if(countzero==n):\n",
        "    # If there are all zeros\n",
        "        return str(0)\n",
        "    elif(countneg%2 == 1):\n",
        "    # If there are odd number of negative numbers\n",
        "        if(countneg==1 and countzero>0 and countzero+countneg==n):\n",
        "            #If there is only one negative number and all others are zeros\n",
        "            return str(0)\n",
        "        else: \n",
        "            #Result is product of all non-zeros divided by maximum valued negative.\n",
        "            return str(product / negative)\n",
        "    else:\n",
        "        return str(product)"
      ],
      "execution_count": null,
      "outputs": []
    },
    {
      "cell_type": "markdown",
      "metadata": {
        "id": "9qmgUyhwov_N"
      },
      "source": [
        "RESOURCES :\n",
        "https://github.com/rudisimo/google-foobar/blob/master/solutions/power_hungry/solution.py"
      ]
    }
  ]
}