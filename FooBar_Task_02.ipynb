{
  "nbformat": 4,
  "nbformat_minor": 0,
  "metadata": {
    "colab": {
      "name": "FooBar Task 02",
      "provenance": [],
      "collapsed_sections": [],
      "authorship_tag": "ABX9TyNRueDv9gnJGt/4oufyLYky",
      "include_colab_link": true
    },
    "kernelspec": {
      "name": "python3",
      "display_name": "Python 3"
    }
  },
  "cells": [
    {
      "cell_type": "markdown",
      "metadata": {
        "id": "view-in-github",
        "colab_type": "text"
      },
      "source": [
        "<a href=\"https://colab.research.google.com/github/arafMustavi/FoobarSolutions/blob/main/FooBar_Task_02.ipynb\" target=\"_parent\"><img src=\"https://colab.research.google.com/assets/colab-badge.svg\" alt=\"Open In Colab\"/></a>"
      ]
    },
    {
      "cell_type": "markdown",
      "metadata": {
        "id": "ce-78Sx6H2NH"
      },
      "source": [
        "Numbers Station Coded Messages\n",
        "==============================\n",
        "\n",
        "When you went undercover in Commander Lambda's organization, you set up a coded messaging system with Bunny Headquarters to allow them to send you important mission updates. Now that you're here and promoted to Henchman, you need to make sure you can receive those messages - but since you need to sneak them past Commander Lambda's spies, it won't be easy!\n",
        "\n",
        "Bunny HQ has secretly taken control of two of the galaxy's more obscure numbers stations, and will use them to broadcast lists of numbers. They've given you a numerical key, and their messages will be encrypted within the first sequence of numbers that adds up to that key within any given list of numbers. \n",
        "\n",
        "Given a non-empty list of positive integers l and a target positive integer t, write a function solution(l, t) which verifies if there is at least one consecutive sequence of positive integers within the list l (i.e. a contiguous sub-list) that can be summed up to the given target positive integer t (the key) and returns the lexicographically smallest list containing the smallest start and end indexes where this sequence can be found, or returns the array [-1, -1] in the case that there is no such sequence (to throw off Lambda's spies, not all number broadcasts will contain a coded message).\n",
        "\n",
        "For example, given the broadcast list l as [4, 3, 5, 7, 8] and the key t as 12, the function solution(l, t) would return the list [0, 2] because the list l contains the sub-list [4, 3, 5] starting at index 0 and ending at index 2, for which 4 + 3 + 5 = 12, even though there is a shorter sequence that happens later in the list (5 + 7). On the other hand, given the list l as [1, 2, 3, 4] and the key t as 15, the function solution(l, t) would return [-1, -1] because there is no sub-list of list l that can be summed up to the given target value t = 15.\n",
        "\n",
        "To help you identify the coded broadcasts, Bunny HQ has agreed to the following standards: \n",
        "\n",
        "- Each list l will contain at least 1 element but never more than 100.\n",
        "- Each element of l will be between 1 and 100.\n",
        "- t will be a positive integer, not exceeding 250.\n",
        "- The first element of the list l has index 0. \n",
        "- For the list returned by solution(l, t), the start index must be equal or smaller than the end index. \n",
        "\n",
        "Remember, to throw off Lambda's spies, Bunny HQ might include more than one contiguous sublist of a number broadcast that can be summed up to the key. You know that the message will always be hidden in the first sublist that sums up to the key, so solution(l, t) should only return that sublist.\n",
        "\n",
        "Languages\n",
        "=========\n",
        "\n",
        "To provide a Python solution, edit solution.py\n",
        "To provide a Java solution, edit Solution.java\n",
        "\n",
        "Test cases\n",
        "==========\n",
        "Your code should pass the following test cases.\n",
        "Note that it may also be run against hidden test cases not shown here.\n",
        "\n",
        "-- Python cases --\n",
        "Input:\n",
        "solution.solution([1, 2, 3, 4], 15)\n",
        "Output:\n",
        "    -1,-1\n",
        "\n",
        "Input:\n",
        "solution.solution([4, 3, 10, 2, 8], 12)\n",
        "Output:\n",
        "    2,3\n",
        "\n",
        "-- Java cases --\n",
        "Input:\n",
        "Solution.solution({1, 2, 3, 4}, 15)\n",
        "Output:\n",
        "    -1,-1\n",
        "\n",
        "Input:\n",
        "Solution.solution({4, 3, 10, 2, 8}, 12)\n",
        "Output:\n",
        "    2,3\n",
        "\n",
        "Use verify [file] to test your solution and see how it does. When you are finished editing your code, use submit [file] to submit your answer. If your solution passes the test cases, it will be removed from your home folder."
      ]
    },
    {
      "cell_type": "code",
      "metadata": {
        "id": "yUlfwlf_H0UJ",
        "outputId": "64779e26-08e2-4892-c239-62e3e6492610",
        "colab": {
          "base_uri": "https://localhost:8080/"
        }
      },
      "source": [
        "def solution(l, t):\n",
        "    # Your code here\n",
        "    startIndex = -1\n",
        "    endIndex = -1\n",
        "    notFound = True\n",
        "    list_len = len(l)\n",
        "    for i in range(0,list_len):\n",
        "        if(notFound):# and (i != list_len):\n",
        "          for j in range(i+1,list_len+1):\n",
        "            # print(\"Testing\",i,j)\n",
        "            # print(l[i:j])\n",
        "            sub_sum = sum(l[i:j])\n",
        "            # print(\"SubSum\",sub_sum)\n",
        "            if (sub_sum == t):\n",
        "              startIndex = i\n",
        "              endIndex = j-1\n",
        "              notFound = False\n",
        "              break\n",
        "    return [startIndex,endIndex]\n",
        "\n",
        "solution([1, 2, 3, 4], 7)"
      ],
      "execution_count": 29,
      "outputs": [
        {
          "output_type": "stream",
          "text": [
            "[1]\n",
            "[1, 2]\n",
            "[1, 2, 3]\n",
            "[1, 2, 3, 4]\n",
            "[2]\n",
            "[2, 3]\n",
            "[2, 3, 4]\n",
            "[3]\n",
            "[3, 4]\n"
          ],
          "name": "stdout"
        },
        {
          "output_type": "execute_result",
          "data": {
            "text/plain": [
              "[2, 3]"
            ]
          },
          "metadata": {
            "tags": []
          },
          "execution_count": 29
        }
      ]
    },
    {
      "cell_type": "markdown",
      "metadata": {
        "id": "rQ9AeflwO6Hc"
      },
      "source": [
        "Power Hungry\n",
        "============\n",
        "\n",
        "Commander Lambda's space station is HUGE. And huge space stations take a LOT of power. Huge space stations with doomsday devices take even more power. To help meet the station's power needs, Commander Lambda has installed solar panels on the station's outer surface. But the station sits in the middle of a quasar quantum flux field, which wreaks havoc on the solar panels. You and your team of henchmen have been assigned to repair the solar panels, but you'd rather not take down all of the panels at once if you can help it, since they do help power the space station and all!\n",
        "\n",
        "You need to figure out which sets of panels in any given array you can take offline to repair while still maintaining the maximum amount of power output per array, and to do THAT, you'll first need to figure out what the maximum output of each array actually is. Write a function solution(xs) that takes a list of integers representing the power output levels of each panel in an array, and returns the maximum product of some non-empty subset of those numbers. So for example, if an array contained panels with power output levels of [2, -3, 1, 0, -5], then the maximum product would be found by taking the subset: xs[0] = 2, xs[1] = -3, xs[4] = -5, giving the product 2*(-3)*(-5) = 30.  So solution([2,-3,1,0,-5]) will be \"30\".\n",
        "\n",
        "Each array of solar panels contains at least 1 and no more than 50 panels, and each panel will have a power output level whose absolute value is no greater than 1000 (some panels are malfunctioning so badly that they're draining energy, but you know a trick with the panels' wave stabilizer that lets you combine two negative-output panels to produce the positive output of the multiple of their power values). The final products may be very large, so give the solution as a string representation of the number.\n",
        "\n",
        "Languages\n",
        "=========\n",
        "\n",
        "To provide a Python solution, edit solution.py\n",
        "To provide a Java solution, edit Solution.java\n",
        "\n",
        "Test cases\n",
        "==========\n",
        "Your code should pass the following test cases.\n",
        "Note that it may also be run against hidden test cases not shown here.\n",
        "\n",
        "-- Python cases --\n",
        "Input:\n",
        "solution.solution([2, 0, 2, 2, 0])\n",
        "Output:\n",
        "    8\n",
        "\n",
        "Input:\n",
        "solution.solution([-2, -3, 4, -5])\n",
        "Output:\n",
        "    60\n",
        "\n",
        "-- Java cases --\n",
        "Input:\n",
        "Solution.solution({2, 0, 2, 2, 0})\n",
        "Output:\n",
        "    8\n",
        "\n",
        "Input:\n",
        "Solution.solution({-2, -3, 4, -5})\n",
        "Output:\n",
        "    60\n",
        "\n",
        "Use verify [file] to test your solution and see how it does. When you are finished editing your code, use submit [file] to submit your answer. If your solution passes the test cases, it will be removed from your home folder."
      ]
    },
    {
      "cell_type": "code",
      "metadata": {
        "id": "9qELfDIJLKri",
        "outputId": "08146c45-666c-483b-8458-2bc67a659144",
        "colab": {
          "base_uri": "https://localhost:8080/"
        }
      },
      "source": [
        ""
      ],
      "execution_count": 36,
      "outputs": [
        {
          "output_type": "stream",
          "text": [
            "1\n",
            "1\n",
            "0\n",
            "0\n",
            "1\n",
            "0\n",
            "0\n"
          ],
          "name": "stdout"
        }
      ]
    },
    {
      "cell_type": "code",
      "metadata": {
        "id": "6aYD9tBRQfhj",
        "outputId": "e8f19dbd-d77d-4950-8d2f-ab582d37d17f",
        "colab": {
          "base_uri": "https://localhost:8080/"
        }
      },
      "source": [
        "def convert_binary(num):\n",
        "  x = bin(num)\n",
        "  x = x[2:]\n",
        "  return x\n",
        "\n",
        "l = [-2, -3, 4, -5]\n",
        "elements = len(l)\n",
        "startIteration = 2 ** (elements -1) \n",
        "maxIteration = 2 ** elements\n",
        "\n",
        "# print(maxIteration)\n",
        "\n",
        "max_Prod = 0\n",
        "for i in range(startIteration,maxIteration+1):\n",
        "  choices = convert_binary(i)\n",
        "  curr_prod = 1\n",
        "  for x in range(elements):\n",
        "    # print(x)\n",
        "    if (choices[x] == '1'): \n",
        "      curr_prod *= l[x]\n",
        "  if (max_Prod < curr_prod):\n",
        "    max_Prod = curr_prod\n",
        "\n",
        "print(max_Prod)\n"
      ],
      "execution_count": 48,
      "outputs": [
        {
          "output_type": "stream",
          "text": [
            "40\n"
          ],
          "name": "stdout"
        }
      ]
    },
    {
      "cell_type": "code",
      "metadata": {
        "id": "WBvRHp6LQESS"
      },
      "source": [
        ""
      ],
      "execution_count": null,
      "outputs": []
    }
  ]
}