{
 "cells": [
  {
   "cell_type": "markdown",
   "metadata": {
    "colab_type": "text",
    "id": "view-in-github"
   },
   "source": [
    "<a href=\"https://colab.research.google.com/github/arafMustavi/FoobarSolutions/blob/main/FooBarTask01.ipynb\" target=\"_parent\"><img src=\"https://colab.research.google.com/assets/colab-badge.svg\" alt=\"Open In Colab\"/></a>"
   ]
  },
  {
   "cell_type": "markdown",
   "metadata": {
    "id": "V8Kpw4D8Ra-p"
   },
   "source": [
    "I Love Lance & Janice\n",
    "=====================\n",
    "\n",
    "You've caught two of your fellow minions passing coded notes back and forth - while they're on duty, no less! Worse, you're pretty sure it's not job-related - they're both huge fans of the space soap opera \"\"Lance & Janice\"\". You know how much Commander Lambda hates waste, so if you can prove that these minions are wasting her time passing non-job-related notes, it'll put you that much closer to a promotion. \n",
    "\n",
    "Fortunately for you, the minions aren't exactly advanced cryptographers. In their code, every lowercase letter [a..z] is replaced with the corresponding one in [z..a], while every other character (including uppercase letters and punctuation) is left untouched.  That is, 'a' becomes 'z', 'b' becomes 'y', 'c' becomes 'x', etc.  For instance, the word \"\"vmxibkgrlm\"\", when decoded, would become \"\"encryption\"\".\n",
    "\n",
    "\n",
    "Write a function called solution(s) which takes in a string and returns the deciphered string so you can show the commander proof that these minions are talking about \"\"Lance & Janice\"\" instead of doing their jobs.\n",
    "\n",
    "\n",
    "Languages\n",
    "=========\n",
    "\n",
    "To provide a Python solution, edit solution.py\n",
    "\n",
    "To provide a Java solution, edit Solution.java\n",
    "\n",
    "Test cases\n",
    "==========\n",
    "Your code should pass the following test cases.\n",
    "\n",
    "Note that it may also be run against hidden test cases not shown here.\n",
    "\n",
    "-- Python cases --\n",
    "\n",
    "Input:\n",
    "\n",
    "solution.solution(\"wrw blf hvv ozhg mrtsg'h vkrhlwv?\")\n",
    "\n",
    "Output:\n",
    "    did you see last night's episode?\n",
    "\n",
    "Input:\n",
    "\n",
    "solution.solution(\"Yvzs! I xzm'g yvorvev Lzmxv olhg srh qly zg gsv xlolmb!!\")\n",
    "\n",
    "Output:\n",
    "\n",
    "    Yeah! I can't believe Lance lost his job at the colony!!\n",
    "\n",
    "-- Java cases --\n",
    "\n",
    "Input:\n",
    "\n",
    "Solution.solution(\"Yvzs! I xzm'g yvorvev Lzmxv olhg srh qly zg gsv xlolmb!!\")\n",
    "\n",
    "Output:\n",
    "\n",
    "    Yeah! I can't believe Lance lost his job at the colony!!\n",
    "\n",
    "Input:\n",
    "\n",
    "Solution.solution(\"wrw blf hvv ozhg mrtsg'h vkrhlwv?\")\n",
    "\n",
    "Output:\n",
    "\n",
    "    did you see last night's episode?\n",
    "\n",
    "Use verify [file] to test your solution and see how it does. When you are finished editing your code, use submit [file] to submit your answer. If your solution passes the test cases, it will be removed from your home folder."
   ]
  },
  {
   "cell_type": "markdown",
   "metadata": {
    "pycharm": {
     "name": "#%% md\n"
    }
   },
   "source": [
    "Solution Approach Model\n",
    "Step 01 : Convert a Number into ASCII\n",
    "Step 02 : Create a dictionary to perform alphabetic conversion as per rule\n",
    "Step 03 : Convert and Submit"
   ]
  },
  {
   "cell_type": "code",
   "execution_count": null,
   "metadata": {
    "id": "7e4optdcPA1w"
   },
   "outputs": [],
   "source": [
    "# Personal Test \n",
    "# Task : Convert a Number into ASCII\n",
    "\n",
    "chr(ord('a')+25)"
   ]
  },
  {
   "cell_type": "code",
   "execution_count": 5,
   "metadata": {
    "id": "rbKPnlz7Eb1H"
   },
   "outputs": [],
   "source": [
    "# Create A Dictionary to Decrypt\n",
    "decryptKey = {}\n",
    "punctuations = []\n",
    "for i in range(26):\n",
    "    decryptKey[chr(ord('a') + i)] = chr(ord('z') - i)\n",
    "    # Only Convert The lowerCase Letters. As per Rules,Avoid UpperCase letters. \n",
    "    # To add the UpperCase Letters,Uncomment the following Lines\n",
    "    # decryptKey[chr(ord('A') + i)] = chr(ord('Z') - i)"
   ]
  },
  {
   "cell_type": "code",
   "execution_count": 6,
   "metadata": {
    "colab": {
     "base_uri": "https://localhost:8080/"
    },
    "id": "sHfSw53eP7WM",
    "outputId": "c7c21fc7-0e20-4e85-9f5a-9eff22058ee0"
   },
   "outputs": [
    {
     "name": "stdout",
     "output_type": "stream",
     "text": [
      "{'a': 'z', 'A': 'Z', 'b': 'y', 'B': 'Y', 'c': 'x', 'C': 'X', 'd': 'w', 'D': 'W', 'e': 'v', 'E': 'V', 'f': 'u', 'F': 'U', 'g': 't', 'G': 'T', 'h': 's', 'H': 'S', 'i': 'r', 'I': 'R', 'j': 'q', 'J': 'Q', 'k': 'p', 'K': 'P', 'l': 'o', 'L': 'O', 'm': 'n', 'M': 'N', 'n': 'm', 'N': 'M', 'o': 'l', 'O': 'L', 'p': 'k', 'P': 'K', 'q': 'j', 'Q': 'J', 'r': 'i', 'R': 'I', 's': 'h', 'S': 'H', 't': 'g', 'T': 'G', 'u': 'f', 'U': 'F', 'v': 'e', 'V': 'E', 'w': 'd', 'W': 'D', 'x': 'c', 'X': 'C', 'y': 'b', 'Y': 'B', 'z': 'a', 'Z': 'A'}\n"
     ]
    }
   ],
   "source": [
    "# Print the Dictionary\n",
    "print(decryptKey)"
   ]
  },
  {
   "cell_type": "code",
   "execution_count": 14,
   "metadata": {
    "id": "K3ATGGM_P-8t"
   },
   "outputs": [],
   "source": [
    "# Test Input String\n",
    "inputString = \"Yvzs! I xzm'g yvorvev Lzmxv olhg srh qly zg gsv xlolmb!!\""
   ]
  },
  {
   "cell_type": "code",
   "execution_count": 15,
   "metadata": {
    "colab": {
     "base_uri": "https://localhost:8080/"
    },
    "id": "wX8jMlXdQOQ6",
    "outputId": "89ec7044-d8fc-4238-fa7c-dddbbce3fe6f",
    "pycharm": {
     "name": "#%%\n"
    }
   },
   "outputs": [
    {
     "name": "stdout",
     "output_type": "stream",
     "text": [
      "Beah! R can't believe Oance lost his job at the colony!!\n"
     ]
    }
   ],
   "source": [
    "# Processing\n",
    "outputString = \"\"\n",
    "for x in inputString:\n",
    "  if x not in decryptKey.keys():\n",
    "    # outputString.append(x)\n",
    "    outputString += x\n",
    "    continue\n",
    "  converted = decryptKey[x]\n",
    "  # outputString.append(converted)\n",
    "  outputString += converted\n",
    "\n",
    "print(outputString)"
   ]
  },
  {
   "cell_type": "markdown",
   "source": [
    "# Submitted Solution for \"I Love Lance & Janice\""
   ],
   "metadata": {
    "collapsed": false
   }
  },
  {
   "cell_type": "markdown",
   "metadata": {
    "id": "sOpEDhP8TlGZ"
   },
   "source": [
    "# Step 01: We will Create a Dictionary of the Characters to Decrypt the File \n",
    "# Step 02: For Each Characters in the Input String we will convert it using the Dictionary\n",
    "# Step 03: All the Punctuations will not be considered in the conversion\n",
    "\n",
    "def createDictionary():\n",
    "    decryptKey = {}\n",
    "    for i in range(26):\n",
    "      decryptKey[chr(ord('a') + i)] = chr(ord('z') - i)\n",
    "    #   decryptKey[chr(ord('A') + i)] = chr(ord('Z') - i)\n",
    "    return decryptKey\n",
    "\n",
    "def solution(x):\n",
    "    # Your code here\n",
    "    decryptKey = createDictionary()\n",
    "    outputString = \"\"\n",
    "    inputString = x\n",
    "    for letter in inputString:\n",
    "      if letter not in decryptKey.keys():\n",
    "        # outputString.append(x)\n",
    "        outputString += letter\n",
    "        continue\n",
    "      converted = decryptKey[letter]\n",
    "      # outputString.append(converted)\n",
    "      outputString += converted\n",
    "    \n",
    "    return outputString"
   ]
  },
  {
   "cell_type": "code",
   "execution_count": null,
   "metadata": {
    "id": "trDLTYc4TbfF"
   },
   "outputs": [],
   "source": [
    "# Step 01: We will Create a Dictionary of the Characters to Decrypt the File \n",
    "# Step 02: For Each Characters in the Input String we will convert it using the Dictionary\n",
    "# Step 03: All the Punctuations will not be considered in the conversion\n",
    "\n",
    "def createDictionary():\n",
    "    decryptKey = {}\n",
    "    for i in range(26):\n",
    "      decryptKey[chr(ord('a') + i)] = chr(ord('z') - i)\n",
    "    #   decryptKey[chr(ord('A') + i)] = chr(ord('Z') - i)\n",
    "    return decryptKey\n",
    "\n",
    "def solution(x):\n",
    "    # Your code here\n",
    "    decryptKey = createDictionary()\n",
    "    outputString = \"\"\n",
    "    inputString = x\n",
    "    for letter in inputString:\n",
    "      if letter not in decryptKey.keys():\n",
    "        # outputString.append(x)\n",
    "        outputString += letter\n",
    "        continue\n",
    "      converted = decryptKey[letter]\n",
    "      # outputString.append(converted)\n",
    "      outputString += converted\n",
    "    \n",
    "    return outputString"
   ]
  }
 ],
 "metadata": {
  "colab": {
   "authorship_tag": "ABX9TyNJLC8lfqdrOcBjKNQKeh6c",
   "collapsed_sections": [],
   "include_colab_link": true,
   "name": "FooBar Task 01.ipynb",
   "provenance": []
  },
  "kernelspec": {
   "display_name": "Python 3",
   "language": "python",
   "name": "python3"
  },
  "language_info": {
   "codemirror_mode": {
    "name": "ipython",
    "version": 3
   },
   "file_extension": ".py",
   "mimetype": "text/x-python",
   "name": "python",
   "nbconvert_exporter": "python",
   "pygments_lexer": "ipython3",
   "version": "3.7.6"
  }
 },
 "nbformat": 4,
 "nbformat_minor": 1
}